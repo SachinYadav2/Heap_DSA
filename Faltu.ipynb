{
 "cells": [
  {
   "cell_type": "code",
   "execution_count": 1,
   "id": "9abebb65",
   "metadata": {},
   "outputs": [
    {
     "name": "stdout",
     "output_type": "stream",
     "text": [
      "ds\n"
     ]
    }
   ],
   "source": [
    "print(\"ds\")"
   ]
  },
  {
   "cell_type": "code",
   "execution_count": 16,
   "id": "a4a9a04a",
   "metadata": {},
   "outputs": [],
   "source": [
    "dic = {\"A\": 1}\n",
    "dic2 = {\"z\": 1}"
   ]
  },
  {
   "cell_type": "code",
   "execution_count": 15,
   "id": "a40748ff",
   "metadata": {},
   "outputs": [],
   "source": [
    "for (key1, value1), (key2, value2) in zip(dic.items(), dic2.items()):\n",
    "    if value1 == value2:\n",
    "        continue\n",
    "    else:\n",
    "        print(False)\n",
    "        break"
   ]
  },
  {
   "cell_type": "code",
   "execution_count": 17,
   "id": "71606610",
   "metadata": {},
   "outputs": [],
   "source": [
    "dic2[\"a\"] = 1"
   ]
  },
  {
   "cell_type": "code",
   "execution_count": 18,
   "id": "24408d56",
   "metadata": {},
   "outputs": [
    {
     "data": {
      "text/plain": [
       "{'z': 1, 'a': 1}"
      ]
     },
     "execution_count": 18,
     "metadata": {},
     "output_type": "execute_result"
    }
   ],
   "source": [
    "{u'a': 1, u'p': 2, u'r': 1, u'e': 1}"
   ]
  },
  {
   "cell_type": "code",
   "execution_count": 19,
   "id": "1210f62a",
   "metadata": {},
   "outputs": [],
   "source": []
  },
  {
   "cell_type": "code",
   "execution_count": 20,
   "id": "97d66418",
   "metadata": {},
   "outputs": [],
   "source": [
    "s =\"paper\"\n",
    "s_h = {}\n",
    "t_h = {}\n",
    "for i in s:\n",
    "    if i in s_h:\n",
    "        s_h[i] +=1\n",
    "    else:\n",
    "        s_h[i] = 1"
   ]
  },
  {
   "cell_type": "code",
   "execution_count": 21,
   "id": "968ce113",
   "metadata": {},
   "outputs": [
    {
     "data": {
      "text/plain": [
       "{'p': 2, 'a': 1, 'e': 1, 'r': 1}"
      ]
     },
     "execution_count": 21,
     "metadata": {},
     "output_type": "execute_result"
    }
   ],
   "source": [
    "s_h"
   ]
  },
  {
   "cell_type": "code",
   "execution_count": 22,
   "id": "e64a35bc",
   "metadata": {},
   "outputs": [
    {
     "name": "stdout",
     "output_type": "stream",
     "text": [
      "{'p': 2, 'a': 1, 'e': 1, 'r': 1}\n"
     ]
    }
   ],
   "source": [
    "s = \"paper\"\n",
    "char_frequency = {}\n",
    "\n",
    "for char in s:\n",
    "    if char in char_frequency:\n",
    "        char_frequency[char] += 1\n",
    "    else:\n",
    "        char_frequency[char] = 1\n",
    "\n",
    "print(char_frequency)\n"
   ]
  },
  {
   "cell_type": "code",
   "execution_count": 23,
   "id": "62ce595c",
   "metadata": {},
   "outputs": [],
   "source": [
    "s = \"sasas\""
   ]
  },
  {
   "cell_type": "code",
   "execution_count": 25,
   "id": "27b30d9d",
   "metadata": {},
   "outputs": [
    {
     "ename": "ValueError",
     "evalue": "dictionary update sequence element #0 has length 1; 2 is required",
     "output_type": "error",
     "traceback": [
      "\u001b[0;31m---------------------------------------------------------------------------\u001b[0m",
      "\u001b[0;31mValueError\u001b[0m                                Traceback (most recent call last)",
      "Cell \u001b[0;32mIn[25], line 1\u001b[0m\n\u001b[0;32m----> 1\u001b[0m \u001b[38;5;28;43mdict\u001b[39;49m\u001b[43m(\u001b[49m\u001b[38;5;28;43msorted\u001b[39;49m\u001b[43m(\u001b[49m\u001b[43ms\u001b[49m\u001b[43m)\u001b[49m\u001b[43m)\u001b[49m\n",
      "\u001b[0;31mValueError\u001b[0m: dictionary update sequence element #0 has length 1; 2 is required"
     ]
    }
   ],
   "source": [
    "dict(sorted(s))"
   ]
  },
  {
   "cell_type": "code",
   "execution_count": 26,
   "id": "74f62a76",
   "metadata": {},
   "outputs": [],
   "source": [
    "dict = {1:\"sas\"}"
   ]
  },
  {
   "cell_type": "code",
   "execution_count": 27,
   "id": "ad7e1848",
   "metadata": {},
   "outputs": [
    {
     "data": {
      "text/plain": [
       "dict_keys([1])"
      ]
     },
     "execution_count": 27,
     "metadata": {},
     "output_type": "execute_result"
    }
   ],
   "source": [
    "dict.keys()"
   ]
  },
  {
   "cell_type": "code",
   "execution_count": 30,
   "id": "47d4e345",
   "metadata": {},
   "outputs": [
    {
     "name": "stdout",
     "output_type": "stream",
     "text": [
      "True\n"
     ]
    }
   ],
   "source": [
    "def containsNearbyDuplicate(nums, k):\n",
    "    hashmap = {}\n",
    "\n",
    "    for i in range(len(nums)):\n",
    "        if nums[i] in hashmap and i - hashmap[nums[i]] <= k:\n",
    "            return True\n",
    "        hashmap[nums[i]] = i\n",
    "\n",
    "    return False\n",
    "\n",
    "# Test cases\n",
    "print(containsNearbyDuplicate([1,0,1,1], 1))  # Output: False\n"
   ]
  },
  {
   "cell_type": "code",
   "execution_count": null,
   "id": "db7b0f1b",
   "metadata": {},
   "outputs": [],
   "source": [
    "    "
   ]
  }
 ],
 "metadata": {
  "kernelspec": {
   "display_name": "Python 3 (ipykernel)",
   "language": "python",
   "name": "python3"
  },
  "language_info": {
   "codemirror_mode": {
    "name": "ipython",
    "version": 3
   },
   "file_extension": ".py",
   "mimetype": "text/x-python",
   "name": "python",
   "nbconvert_exporter": "python",
   "pygments_lexer": "ipython3",
   "version": "3.10.8"
  }
 },
 "nbformat": 4,
 "nbformat_minor": 5
}
