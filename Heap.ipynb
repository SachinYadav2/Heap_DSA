{
 "cells": [
  {
   "cell_type": "markdown",
   "id": "9114b332",
   "metadata": {},
   "source": [
    "# Insert Element in Heap. Tree"
   ]
  },
  {
   "cell_type": "code",
   "execution_count": 26,
   "id": "d9068f35",
   "metadata": {},
   "outputs": [
    {
     "name": "stdout",
     "output_type": "stream",
     "text": [
      "55 54 53 50 52 "
     ]
    }
   ],
   "source": [
    "class Heap:\n",
    "\n",
    "    # Define Constctur and ye heap me array ke throw bnaunga\n",
    "\n",
    "    def __init__(self):\n",
    "        self.arr = [-1]\n",
    "        self.size = 0\n",
    "\n",
    "\n",
    "    def insert(self , val):\n",
    "\n",
    "        self.size = self.size + 1\n",
    "\n",
    "        index = self.size\n",
    "\n",
    "        self.arr.append( val)\n",
    "\n",
    "        while index > 1:\n",
    "\n",
    "            parent =index // 2\n",
    "            if self.arr[parent] < self.arr[index]:\n",
    "                self.arr[parent] , self.arr[index] = self.arr[index] , self.arr[parent]\n",
    "\n",
    "                index = parent\n",
    "            else:\n",
    "                return\n",
    "\n",
    "    def show(self):\n",
    "\n",
    "        for i in range(1 ,  self.size+1):\n",
    "            print(self.arr[i] , end = ' ')\n",
    "\n",
    "\n",
    "h = Heap()\n",
    "h.insert(50)\n",
    "h.insert(55)\n",
    "h.insert(53)\n",
    "h.insert(52)\n",
    "h.insert(54)\n",
    "h.show()\n",
    "\n"
   ]
  },
  {
   "cell_type": "markdown",
   "id": "2f60add1",
   "metadata": {},
   "source": [
    "# Delection Element in Heap"
   ]
  },
  {
   "cell_type": "code",
   "execution_count": 32,
   "id": "81453532",
   "metadata": {},
   "outputs": [
    {
     "name": "stdout",
     "output_type": "stream",
     "text": [
      "53 52 50 "
     ]
    }
   ],
   "source": [
    "class Heap:\n",
    "\n",
    "    # Define Constctur and ye heap me array ke throw bnaunga\n",
    "\n",
    "    def __init__(self):\n",
    "        self.arr = [-1]\n",
    "        self.size = 0\n",
    "\n",
    "\n",
    "    def insert(self , val):\n",
    "\n",
    "        self.size = self.size + 1\n",
    "\n",
    "        index = self.size\n",
    "\n",
    "        self.arr.append( val)\n",
    "\n",
    "        while index > 1:\n",
    "\n",
    "            parent =index // 2\n",
    "            if self.arr[parent] < self.arr[index]:\n",
    "                self.arr[parent] , self.arr[index] = self.arr[index] , self.arr[parent]\n",
    "\n",
    "                index = parent\n",
    "            else:\n",
    "                return\n",
    "\n",
    "    def show(self):\n",
    "\n",
    "        for i in range(1 ,  self.size+1):\n",
    "            print(self.arr[i] , end = ' ')\n",
    "            \n",
    "            \n",
    "# Now Delete the node\n",
    "    def delete(self):\n",
    "        if self.size == 0:\n",
    "            print(\"Heap is empty, cannot delete.\")\n",
    "            return\n",
    "\n",
    "        # Replace the root with the last element\n",
    "        self.arr[1] = self.arr[self.size]\n",
    "        self.size -= 1\n",
    "\n",
    "        i = 1  # Start from the root\n",
    "\n",
    "        while True:\n",
    "            left_index = 2 * i\n",
    "            right_index = 2 * i + 1\n",
    "            max_index = i\n",
    "\n",
    "            # Find the index of the largest element among the current node and its children\n",
    "            if left_index <= self.size and self.arr[left_index] > self.arr[max_index]:\n",
    "                max_index = left_index\n",
    "            if right_index <= self.size and self.arr[right_index] > self.arr[max_index]:\n",
    "                max_index = right_index\n",
    "\n",
    "            # If the current node is the largest, stop\n",
    "            if max_index == i:\n",
    "                break\n",
    "\n",
    "            # Swap the current node with the largest child\n",
    "            self.arr[i], self.arr[max_index] = self.arr[max_index], self.arr[i]\n",
    "            i = max_index\n",
    "\n",
    "        \n",
    "\n",
    "h = Heap()\n",
    "h.insert(50)\n",
    "h.insert(55)\n",
    "h.insert(53)\n",
    "h.insert(52)\n",
    "h.insert(54)\n",
    "h.delete()\n",
    "h.delete()\n",
    "h.show()\n"
   ]
  },
  {
   "cell_type": "code",
   "execution_count": null,
   "id": "c4687473",
   "metadata": {},
   "outputs": [],
   "source": []
  }
 ],
 "metadata": {
  "kernelspec": {
   "display_name": "Python 3 (ipykernel)",
   "language": "python",
   "name": "python3"
  },
  "language_info": {
   "codemirror_mode": {
    "name": "ipython",
    "version": 3
   },
   "file_extension": ".py",
   "mimetype": "text/x-python",
   "name": "python",
   "nbconvert_exporter": "python",
   "pygments_lexer": "ipython3",
   "version": "3.10.8"
  }
 },
 "nbformat": 4,
 "nbformat_minor": 5
}
