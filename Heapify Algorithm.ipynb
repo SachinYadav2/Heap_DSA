{
 "cells": [
  {
   "cell_type": "code",
   "execution_count": 2,
   "id": "d27237eb",
   "metadata": {},
   "outputs": [
    {
     "name": "stdout",
     "output_type": "stream",
     "text": [
      "Now print the Heapify \n",
      "55 53 54 52 50 "
     ]
    }
   ],
   "source": [
    "def Heapify(arr ,  n , i):\n",
    "    \n",
    "    largest = i\n",
    "    \n",
    "    left = 2 * i\n",
    "    \n",
    "    right = 2 * i + 1\n",
    "    \n",
    "    if left < n and arr[largest] < arr[left]:\n",
    "        largest = left\n",
    "        \n",
    "    if right < n and arr[largest] < arr[right]:\n",
    "        largest = right\n",
    "        \n",
    "    if largest != i:\n",
    "        arr[largest] , arr[i] = arr[i] , arr[largest]\n",
    "        \n",
    "        Heapify(arr , n , largest)\n",
    "        \n",
    "arr = [-1 , 54 , 53, 55, 52  , 50]\n",
    "\n",
    "n = 5\n",
    "\n",
    "for i in range(n//2  , 0 , -1):\n",
    "    Heapify(arr , n , i)\n",
    "    \n",
    "print(\"Now print the Heapify \")\n",
    "\n",
    "for i in range(1 , n+1):\n",
    "    print(arr[i] , end = \" \")"
   ]
  },
  {
   "cell_type": "code",
   "execution_count": null,
   "id": "f1fb6258",
   "metadata": {},
   "outputs": [],
   "source": []
  }
 ],
 "metadata": {
  "kernelspec": {
   "display_name": "Python 3 (ipykernel)",
   "language": "python",
   "name": "python3"
  },
  "language_info": {
   "codemirror_mode": {
    "name": "ipython",
    "version": 3
   },
   "file_extension": ".py",
   "mimetype": "text/x-python",
   "name": "python",
   "nbconvert_exporter": "python",
   "pygments_lexer": "ipython3",
   "version": "3.10.8"
  }
 },
 "nbformat": 4,
 "nbformat_minor": 5
}
